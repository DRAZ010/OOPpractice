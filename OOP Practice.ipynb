{
 "cells": [
  {
   "cell_type": "code",
   "execution_count": 7,
   "metadata": {
    "ExecuteTime": {
     "end_time": "2022-08-20T21:17:57.415264Z",
     "start_time": "2022-08-20T21:17:57.403185Z"
    }
   },
   "outputs": [
    {
     "name": "stdout",
     "output_type": "stream",
     "text": [
      "<class 'int'>\n"
     ]
    }
   ],
   "source": [
    "x=1\n",
    "print(type(x))"
   ]
  },
  {
   "cell_type": "code",
   "execution_count": 8,
   "metadata": {
    "ExecuteTime": {
     "end_time": "2022-08-20T21:18:31.351073Z",
     "start_time": "2022-08-20T21:18:31.343112Z"
    }
   },
   "outputs": [
    {
     "name": "stdout",
     "output_type": "stream",
     "text": [
      "<class 'function'>\n"
     ]
    }
   ],
   "source": [
    "def hello():\n",
    "    print('hello')\n",
    "\n",
    "print(type(hello))"
   ]
  },
  {
   "cell_type": "code",
   "execution_count": 9,
   "metadata": {
    "ExecuteTime": {
     "end_time": "2022-08-20T21:26:12.973939Z",
     "start_time": "2022-08-20T21:26:12.969950Z"
    }
   },
   "outputs": [],
   "source": [
    "x=1\n",
    "y='hello'"
   ]
  },
  {
   "cell_type": "code",
   "execution_count": 12,
   "metadata": {
    "ExecuteTime": {
     "end_time": "2022-08-20T21:29:05.343174Z",
     "start_time": "2022-08-20T21:29:05.339201Z"
    }
   },
   "outputs": [
    {
     "name": "stdout",
     "output_type": "stream",
     "text": [
      "HELLO\n"
     ]
    }
   ],
   "source": [
    "string ='hello'\n",
    "print(string.upper())"
   ]
  },
  {
   "cell_type": "code",
   "execution_count": 13,
   "metadata": {
    "ExecuteTime": {
     "end_time": "2022-08-20T21:29:31.674417Z",
     "start_time": "2022-08-20T21:29:31.656484Z"
    }
   },
   "outputs": [
    {
     "ename": "AttributeError",
     "evalue": "'int' object has no attribute 'upper'",
     "output_type": "error",
     "traceback": [
      "\u001b[1;31m---------------------------------------------------------------------------\u001b[0m",
      "\u001b[1;31mAttributeError\u001b[0m                            Traceback (most recent call last)",
      "\u001b[1;32m<ipython-input-13-afd8cd682bf6>\u001b[0m in \u001b[0;36m<module>\u001b[1;34m\u001b[0m\n\u001b[0;32m      1\u001b[0m \u001b[0mx\u001b[0m\u001b[1;33m=\u001b[0m\u001b[1;36m1\u001b[0m\u001b[1;33m\u001b[0m\u001b[1;33m\u001b[0m\u001b[0m\n\u001b[1;32m----> 2\u001b[1;33m \u001b[0mprint\u001b[0m\u001b[1;33m(\u001b[0m\u001b[0mx\u001b[0m\u001b[1;33m.\u001b[0m\u001b[0mupper\u001b[0m\u001b[1;33m(\u001b[0m\u001b[1;33m)\u001b[0m\u001b[1;33m)\u001b[0m\u001b[1;33m\u001b[0m\u001b[1;33m\u001b[0m\u001b[0m\n\u001b[0m",
      "\u001b[1;31mAttributeError\u001b[0m: 'int' object has no attribute 'upper'"
     ]
    }
   ],
   "source": [
    "x=1\n",
    "print(x.upper())"
   ]
  },
  {
   "cell_type": "code",
   "execution_count": 14,
   "metadata": {
    "ExecuteTime": {
     "end_time": "2022-08-20T21:30:29.993986Z",
     "start_time": "2022-08-20T21:30:29.983034Z"
    }
   },
   "outputs": [],
   "source": [
    "#Because the int object does not have an attribute 'upper' in the integer class"
   ]
  },
  {
   "cell_type": "code",
   "execution_count": 45,
   "metadata": {
    "ExecuteTime": {
     "end_time": "2022-08-20T22:17:37.581780Z",
     "start_time": "2022-08-20T22:17:37.564823Z"
    }
   },
   "outputs": [
    {
     "name": "stdout",
     "output_type": "stream",
     "text": [
      "<class '__main__.Dog'>\n",
      "Tim\n",
      "Bill\n",
      "Tim\n",
      "32\n",
      "65\n",
      "65\n"
     ]
    }
   ],
   "source": [
    "class Dog: #usually you use 'Camel Case when naming a class'\n",
    "    \n",
    "    def __init__(self, name, age):  #everytime we create a Dog object we need to pass in a name\n",
    "        self.name = name  # the names do not need to match, we are storing name, we creating an attribute of class Dog which is name\n",
    "        self.age = age                  #using self allows you to store 'name' for every object that is instatied in class Dog\n",
    "        \n",
    "    def bark(self): # this is a method which is a function that goes inside a class\n",
    "        print('bark')\n",
    "    \n",
    "    def add_one(self, x):\n",
    "        return x + 1\n",
    "    \n",
    "    def get_name(self):\n",
    "        return self.name #example of using an attribute within a method\n",
    "    \n",
    "    def get_age(self):\n",
    "        return self.age #returning attribute 'age' with a method 'get_age'\n",
    "    \n",
    "    #create a new method that modifies the __init__ defined attributes\n",
    "    #access different attrigutes from methods\n",
    "    #powerful because it allows us to access data\n",
    "    \n",
    "    def set_age(self, age):\n",
    "        self.age = age\n",
    "        \n",
    "\n",
    "# d = Dog('Tim', 32) #instantiating/creating a new isntance of Dog/creatinga new instance\n",
    "# print(type(d))  #The underscores denote which module the class was defined in\n",
    "# d2 = Dog('Bill', 16)\n",
    "# print(d.name) # printing attribute\n",
    "# print(d2.name)\n",
    "# print(d.get_name()) #printing attribute with method\n",
    "# print(d.get_age())\n",
    "# d.set_age(65)\n",
    "# print(d.age)\n",
    "# print(d.get_age())\n",
    "\n",
    "#why do this well, what if you tried to simulate and try to create code for each instance"
   ]
  },
  {
   "cell_type": "code",
   "execution_count": 23,
   "metadata": {
    "ExecuteTime": {
     "end_time": "2022-08-20T21:52:48.492906Z",
     "start_time": "2022-08-20T21:52:48.478959Z"
    }
   },
   "outputs": [
    {
     "name": "stdout",
     "output_type": "stream",
     "text": [
      "bark\n",
      "<class '__main__.Dog'>\n"
     ]
    }
   ],
   "source": [
    "d.bark()\n",
    "print(type(d))"
   ]
  },
  {
   "cell_type": "code",
   "execution_count": 26,
   "metadata": {
    "ExecuteTime": {
     "end_time": "2022-08-20T21:54:56.339993Z",
     "start_time": "2022-08-20T21:54:56.328011Z"
    }
   },
   "outputs": [
    {
     "data": {
      "text/plain": [
       "6"
      ]
     },
     "execution_count": 26,
     "metadata": {},
     "output_type": "execute_result"
    }
   ],
   "source": [
    "d.add_one(5)"
   ]
  },
  {
   "cell_type": "code",
   "execution_count": null,
   "metadata": {},
   "outputs": [],
   "source": [
    "#time for a more complex object!\n",
    "#the advantage of using mutliple classes\n",
    "# students and courses. \n",
    "\n",
    "class Student:\n",
    "    def __init__(self, name, age, grade):\n",
    "        self.name = name\n",
    "        self.age = age\n",
    "        self.grade = grade # 0-100\n",
    "        \n",
    "    def get_grade(self):\n",
    "        return self.grade\n",
    "\n",
    "class Course:\n",
    "    def __init__(self, name, max_students):\n",
    "        self.name = name\n",
    "        self.max_students = max_students\n",
    "        self.students = []  #students stored inside a course object.  .students not passed into __init__\n",
    "        self.is_active = False\n",
    "        \n",
    "    \n",
    "    \n",
    "    \n",
    "        \n"
   ]
  }
 ],
 "metadata": {
  "kernelspec": {
   "display_name": "Python 3",
   "language": "python",
   "name": "python3"
  },
  "language_info": {
   "codemirror_mode": {
    "name": "ipython",
    "version": 3
   },
   "file_extension": ".py",
   "mimetype": "text/x-python",
   "name": "python",
   "nbconvert_exporter": "python",
   "pygments_lexer": "ipython3",
   "version": "3.7.6"
  },
  "toc": {
   "base_numbering": 1,
   "nav_menu": {},
   "number_sections": true,
   "sideBar": true,
   "skip_h1_title": false,
   "title_cell": "Table of Contents",
   "title_sidebar": "Contents",
   "toc_cell": false,
   "toc_position": {},
   "toc_section_display": true,
   "toc_window_display": false
  },
  "varInspector": {
   "cols": {
    "lenName": 16,
    "lenType": 16,
    "lenVar": 40
   },
   "kernels_config": {
    "python": {
     "delete_cmd_postfix": "",
     "delete_cmd_prefix": "del ",
     "library": "var_list.py",
     "varRefreshCmd": "print(var_dic_list())"
    },
    "r": {
     "delete_cmd_postfix": ") ",
     "delete_cmd_prefix": "rm(",
     "library": "var_list.r",
     "varRefreshCmd": "cat(var_dic_list()) "
    }
   },
   "types_to_exclude": [
    "module",
    "function",
    "builtin_function_or_method",
    "instance",
    "_Feature"
   ],
   "window_display": false
  }
 },
 "nbformat": 4,
 "nbformat_minor": 4
}
